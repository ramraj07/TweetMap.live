{
 "cells": [
  {
   "cell_type": "markdown",
   "metadata": {},
   "source": [
    "The goal is to see if we can train a xgboost model to recognize what tweeet has a genuine location and what tweet doesn't. First step is to decide what set of tweets will be put into the model: the more we prune before we feed into the model the less we have to worry about the imbalance problem with training these models.\n",
    "\n"
   ]
  },
  {
   "cell_type": "code",
   "execution_count": 8,
   "metadata": {},
   "outputs": [
    {
     "name": "stdout",
     "output_type": "stream",
     "text": [
      "None\n"
     ]
    }
   ],
   "source": [
    "import psycopg2\n",
    "import pandas as pd\n",
    "import matplotlib.pyplot as plt\n",
    "import sys\n",
    "from sqlalchemy import create_engine\n",
    "import sqlalchemy\n",
    "from sqlalchemy.ext.declarative import declarative_base\n",
    "import os\n",
    "password = os.getenv('db_password')\n",
    "engine = create_engine('postgres://%s:%s@104.154.139.71/%s'%('postgres',password,'tweets_db'))\n",
    "connection = engine.connect()\n"
   ]
  },
  {
   "cell_type": "code",
   "execution_count": 36,
   "metadata": {
    "collapsed": true
   },
   "outputs": [],
   "source": [
    "df4 = pd.read_sql_query(\"\"\"\n",
    "select \n",
    "    tweets.tweet_id,\n",
    "    tweet_date, \n",
    "    tweets.tweet_text, \n",
    "    entityname,\n",
    "    tags\n",
    "from tweets \n",
    "join osmtweetlocalization \n",
    "    on osmtweetlocalization.tweet_id = tweets.tweet_id \n",
    "join planet_osm_nodes\n",
    "    on osmtweetlocalization.osm_id = planet_osm_nodes.id\n",
    "join spacyentities01 \n",
    "    on spacyentities01.tweet_id = tweets.tweet_id \n",
    "where \n",
    "    trim(entityname) not in ( \n",
    "        select trim(entityname) \n",
    "        from spacyentities01 \n",
    "        group by trim(entityname) \n",
    "        order by count(id) desc\n",
    "        limit 100\n",
    "    )\n",
    "    and tweets.tweet_id in (\n",
    "        select tweet_id \n",
    "        from osmtweetlocalization  \n",
    "        group by tweet_id \n",
    "        having count(tweet_id) <5 \n",
    "    )\n",
    "order by random();\n",
    "\"\"\",engine)"
   ]
  },
  {
   "cell_type": "code",
   "execution_count": 37,
   "metadata": {},
   "outputs": [
    {
     "name": "stdout",
     "output_type": "stream",
     "text": [
      "15096\n",
      "It's official: Hurricane Warning. @CBS12 @ Embassy Suites by Hilton… https://t.co/zW4MTuueQ2\n",
      "It's official: Hurricane Warning. @CBS12 @ Embassy Suites by Hilton… https://t.co/zW4MTuueQ2\n",
      "Hurricane Warning ⚠️ from Jupiter Inlet south around the FL peninsula to Bonita Beach, as well as for the Keys, Lake Okeechobee &amp; FL Bay.\n",
      "Hurricane Warning ⚠️ from Jupiter Inlet south around the FL peninsula to Bonita Beach, as well as for the Keys, Lake Okeechobee &amp; FL Bay.\n",
      "Greenfield PD Helping in \"Hurricane Harvey\" Relief | Buckeye Country 105.5 https://t.co/E7lYEH0UJn\n",
      "Greenfield PD Helping in \"Hurricane Harvey\" Relief | Buckeye Country 105.5 https://t.co/E7lYEH0UJn\n",
      "Calm before the storm @ Indian Harbour Beach, Florida https://t.co/bk6iRGrPSJ\n",
      "Sin Luz, Las Carmelitas, Calle San Jorge @AEEONLINE #Santurce #Irma #SinLuz #SanJuan\n",
      "Sin Luz, Las Carmelitas, Calle San Jorge @AEEONLINE #Santurce #Irma #SinLuz #SanJuan\n",
      "Sin Luz, Las Carmelitas, Calle San Jorge @AEEONLINE #Santurce #Irma #SinLuz #SanJuan\n",
      "Sin Luz, Las Carmelitas, Calle San Jorge @AEEONLINE #Santurce #Irma #SinLuz #SanJuan\n",
      "11 PM advisory:\n",
      "\n",
      "Track has shifted once again, with Davenport, Winter Haven, Dundee, and Loughman in the path of th… https://t.co/lpfQdJk7xt\n",
      "Atlantic: Irma: Hurricane Warning issued from Jupiter Inlet south\n",
      "around FL peninsula to Bonita Beach FL Keys Lake Okeechobee &amp; FL Bay\n",
      "Atlantic: Irma: Hurricane Warning issued from Jupiter Inlet south\n",
      "around FL peninsula to Bonita Beach FL Keys Lake Okeechobee &amp; FL Bay\n",
      "US Federal Aviation Administration issues Hurricane Irma update https://t.co/bndf2Zu3Z1\n",
      "12 dead in the wake of irma is a miniscule number considering the absolute devastating effect on those islands in Bahamas SKY @skynews\n",
      "Still doin okay. We live in Pinellas, FL, Evacuation zone D. Plywood cut &amp; ready. Gearing up to ride the storm. PLEASE STAY EAST #IRMA!!\n",
      "❗❗❗For my friends evacuating. This is coming straight from the Collier County Sheriff's Office.❗❗❗ https://t.co/yVya4E7xyt\n",
      "❗❗❗For my friends evacuating. This is coming straight from the Collier County Sheriff's Office.❗❗❗ https://t.co/yVya4E7xyt\n",
      "❗❗❗For my friends evacuating. This is coming straight from the Collier County Sheriff's Office.❗❗❗ https://t.co/yVya4E7xyt\n",
      "How Atlanta Gone Have a Hurricane With No Damn Water? Y'all Dumb Asses Need To Sign Up For Sylvan Learning Center.\n",
      "How Atlanta Gone Have a Hurricane With No Damn Water? Y'all Dumb Asses Need To Sign Up For Sylvan Learning Center.\n",
      "\"Like Jo Galloway in 'A Few Good Men,' Richmond-area man absent the day they taught law in law school\" https://t.co/ZDRJ9IUJ7q\n",
      "JUST IN: Hurricane Warning in effect for: Miami, Coral Gables, Kendall, Miami Springs, Hialeah, Miami Lakes, Cutler Ridge #HurricaneIrma #FL\n",
      "JUST IN: Hurricane Warning in effect for: Miami, Coral Gables, Kendall, Miami Springs, Hialeah, Miami Lakes, Cutler Ridge #HurricaneIrma #FL\n",
      "JUST IN: Hurricane Warning in effect for: Miami, Coral Gables, Kendall, Miami Springs, Hialeah, Miami Lakes, Cutler Ridge #HurricaneIrma #FL\n",
      "JUST IN: Hurricane Warning in effect for: Miami, Coral Gables, Kendall, Miami Springs, Hialeah, Miami Lakes, Cutler Ridge #HurricaneIrma #FL\n",
      "JUST IN: Hurricane Warning in effect for: Miami, Coral Gables, Kendall, Miami Springs, Hialeah, Miami Lakes, Cutler Ridge #HurricaneIrma #FL\n",
      "JUST IN: Hurricane Warning in effect for: Miami, Coral Gables, Kendall, Miami Springs, Hialeah, Miami Lakes, Cutler Ridge #HurricaneIrma #FL\n",
      "Exploring The Wizarding World Of Harry Potter: Hogsmeade https://t.co/2QSaAz4Xkg #florida\n",
      "...HURRICANE WARNING REMAINS IN EFFECT... * LOCATIONS AFFECTED - Wellington - Lion Country Safari - Belle Glade #Wx https://t.co/UT5BOnHrfI\n",
      "Hurricane Warning! issued for NWS Key West (Key West - The Florida Keys) #NWS #severeweather https://t.co/Sgb4STQk1F\n",
      "Hurricane Warning! issued for NWS Key West (Key West - The Florida Keys) #NWS #severeweather https://t.co/RS9daGGV07\n",
      "I just added this to my closet on Poshmark: 10 Crate &amp; Barrel Loopy Hurricane lamps. https://t.co/PiYMnhyVaL via @poshmarkapp #shopmycloset\n",
      "I just added this to my closet on Poshmark: 10 Crate &amp; Barrel Loopy Hurricane lamps. https://t.co/PiYMnhyVaL via @poshmarkapp #shopmycloset\n",
      "Keep us in your prayers. \n",
      "\n",
      "#fffclientsrthecutest \n",
      "#irmasux @ Biscayne Park, Florida https://t.co/j7bnQL4ye6\n",
      "TBW issues Hurricane Watch for Charlotte Harbor and Pine Island Sound, Coastal waters from Bonita Beach to En... https://t.co/G02HThVNwe\n",
      "TBW issues Hurricane Watch for Charlotte Harbor and Pine Island Sound, Coastal waters from Bonita Beach to En... https://t.co/G02HThVNwe\n",
      "TBW issues Hurricane Watch for Charlotte Harbor and Pine Island Sound, Coastal waters from Bonita Beach to En... https://t.co/G02HThVNwe\n",
      "Orlando holiday villas to rent in Indian Creek near Walt Disney World Florida - Indian Creek Orlando Villas https://t.co/NIq7JREuGd\n",
      "Orlando holiday villas to rent in Indian Creek near Walt Disney World Florida - Indian Creek Orlando Villas https://t.co/NIq7JREuGd\n",
      "Orlando holiday villas to rent in Indian Creek near Walt Disney World Florida - Indian Creek Orlando Villas https://t.co/NIq7JREuGd\n",
      "Orlando holiday villas to rent in Indian Creek near Walt Disney World Florida - Indian Creek Orlando Villas https://t.co/NIq7JREuGd\n",
      "#BREAKING:Hurricane Warning &amp; Storm Surge Warning: Miami, Coral Gables, Kendall, Miami Springs, Hialeah, Miami Lakes, Cutler Ridge #Irma #FL\n",
      "#BREAKING:Hurricane Warning &amp; Storm Surge Warning: Miami, Coral Gables, Kendall, Miami Springs, Hialeah, Miami Lakes, Cutler Ridge #Irma #FL\n",
      "#BREAKING:Hurricane Warning &amp; Storm Surge Warning: Miami, Coral Gables, Kendall, Miami Springs, Hialeah, Miami Lakes, Cutler Ridge #Irma #FL\n",
      "#BREAKING:Hurricane Warning &amp; Storm Surge Warning: Miami, Coral Gables, Kendall, Miami Springs, Hialeah, Miami Lakes, Cutler Ridge #Irma #FL\n",
      "#BREAKING:Hurricane Warning &amp; Storm Surge Warning: Miami, Coral Gables, Kendall, Miami Springs, Hialeah, Miami Lakes, Cutler Ridge #Irma #FL\n",
      "#BREAKING:Hurricane Warning &amp; Storm Surge Warning: Miami, Coral Gables, Kendall, Miami Springs, Hialeah, Miami Lakes, Cutler Ridge #Irma #FL\n",
      "#BREAKING:Hurricane Warning &amp; Storm Surge Warning: Miami, Coral Gables, Kendall, Miami Springs, Hialeah, Miami Lakes, Cutler Ridge #Irma #FL\n",
      "#BREAKING:Hurricane Warning &amp; Storm Surge Warning: Miami, Coral Gables, Kendall, Miami Springs, Hialeah, Miami Lakes, Cutler Ridge #Irma #FL\n",
      "After the hurricane we at Shakai next Saturday https://t.co/u6c59reocM\n",
      "After the hurricane we at Shakai next Saturday https://t.co/u6c59reocM\n",
      "\"One American Appeal\" sounds like American Eagle Outfitters trying to restructure its brand and falling flat on its… https://t.co/oz9KlNTnmf\n",
      "\"One American Appeal\" sounds like American Eagle Outfitters trying to restructure its brand and falling flat on its… https://t.co/oz9KlNTnmf\n",
      "\"One American Appeal\" sounds like American Eagle Outfitters trying to restructure its brand and falling flat on its… https://t.co/oz9KlNTnmf\n",
      "Tonight, Florida Farm Bureau Federation's CARES Program proudly recognized Mr. Mickey Diamond of JM Diamond Farms... https://t.co/KvUVIKpn6d\n",
      "Tonight, Florida Farm Bureau Federation's CARES Program proudly recognized Mr. Mickey Diamond of JM Diamond Farms... https://t.co/KvUVIKpn6d\n",
      "@HiltonHonors Homewood Suites Blue Lagoon just CANC my reservation from Sat 9/9-11. The day a CAT 5 hurricane is hitting Miami. FIX THIS\n",
      "@HiltonHonors Homewood Suites Blue Lagoon just CANC my reservation from Sat 9/9-11. The day a CAT 5 hurricane is hitting Miami. FIX THIS\n",
      "@HiltonHonors Homewood Suites Blue Lagoon just CANC my reservation from Sat 9/9-11. The day a CAT 5 hurricane is hitting Miami. FIX THIS\n",
      "@MaryHPiper @JulieTCouret The most horrifying stories I've read about surviving a hurricane happened in Waveland MS… https://t.co/oczw0go6a1\n",
      "RBC, Ameriprise, Raymond James, Edward Jones and others prepare for the worst from #Irma https://t.co/dVqt3yRQWg\n",
      "RBC, Ameriprise, Raymond James, Edward Jones and others prepare for the worst from #Irma https://t.co/dVqt3yRQWg\n",
      "Me and good bud at my condo on Sand Key in FL. Paying Irma stays away!! Be safe friends in FL!#Irma2017 https://t.co/6lwhwZs8lW\n",
      "Me and good bud at my condo on Sand Key in FL. Paying Irma stays away!! Be safe friends in FL!#Irma2017 https://t.co/6lwhwZs8lW\n",
      "Me and good bud at my condo on Sand Key in FL. Paying Irma stays away!! Be safe friends in FL!#Irma2017 https://t.co/6lwhwZs8lW\n",
      "@jameswhelan42 Fiat currency tailwind for a decade.. I'm tipping that Au ain't done... QE unwind = difficult BUT peak Kim/Irma right now...\n",
      "Broward: Late Thurs. pet shelter @ Millennium Middle school was full. County working on options. Pompano Beach High School also full. #Irma.\n",
      "Broward: Late Thurs. pet shelter @ Millennium Middle school was full. County working on options. Pompano Beach High School also full. #Irma.\n",
      "Fri @ 8A, petfriendly shelter opens @ Northwoods Baptist Church 3762 Capital Circle NW, Tallahassee, #Florida 32303 #Irmapets #Irmapetrescue\n",
      "Fri @ 8A, petfriendly shelter opens @ Northwoods Baptist Church 3762 Capital Circle NW, Tallahassee, #Florida 32303 #Irmapets #Irmapetrescue\n",
      "Fri @ 8A, petfriendly shelter opens @ Northwoods Baptist Church 3762 Capital Circle NW, Tallahassee, #Florida 32303 #Irmapets #Irmapetrescue\n",
      "Hurricane Local Statement issued for Brevard, Indian River, Lake, Martin, Okeechobee and Orange Counties in FL #flwx https://t.co/CKevMf3Znh\n",
      "Hurricane Local Statement issued for Brevard, Indian River, Lake, Martin, Okeechobee and Orange Counties in FL #flwx https://t.co/CKevMf3Znh\n",
      "Hurricane Local Statement issued for Brevard, Indian River, Lake, Martin, Okeechobee and Orange Counties in FL #flwx https://t.co/CKevMf3Znh\n",
      "Hurricane Local Statement issued for Brevard, Indian River, Lake, Martin, Okeechobee and Orange Counties in FL #flwx https://t.co/CKevMf3Znh\n",
      "#Residential Price: $44900. Address: 703 W MANSFIELD ST, Deland, Florida 32720  One story. MLS #E2... - https://t.co/quKQPYMDrM\n",
      "Somewhere in a Florida hurricane bunker Don Shula just popped a bottle of Metamucil Champagne\n",
      "\n",
      "#KCvsNE\n",
      "Somewhere in a Florida hurricane bunker Don Shula just popped a bottle of Metamucil Champagne\n",
      "\n",
      "#KCvsNE\n",
      "Fanning Springs braces for Hurricane Irma!\n",
      "Fanning Springs braces for Hurricane Irma!\n",
      "Fanning Springs braces for Hurricane Irma!\n",
      "My Giant son ant_santana10 so happy to see him my baby #motherandson @ Sugarmill Woods, Florida https://t.co/R8Xbx8buFm\n",
      "My Giant son ant_santana10 so happy to see him my baby #motherandson @ Sugarmill Woods, Florida https://t.co/R8Xbx8buFm\n",
      "My Giant son ant_santana10 so happy to see him my baby #motherandson @ Sugarmill Woods, Florida https://t.co/R8Xbx8buFm\n",
      "My Giant son ant_santana10 so happy to see him my baby #motherandson @ Sugarmill Woods, Florida https://t.co/R8Xbx8buFm\n",
      "https://t.co/fhbj88MaPE Vintage 3D Emblem Harley Davidson Shirt Florida 80s XL\n",
      "Pensacola: It's fine. The hurricane turned east.\n",
      "Irma: *turns west.*\n",
      "Pensacola: https://t.co/69MpMKqJ9E\n",
      "Pensacola: It's fine. The hurricane turned east.\n",
      "Irma: *turns west.*\n",
      "Pensacola: https://t.co/69MpMKqJ9E\n",
      "Shame on you Legacy place, downtown at gardens and Abacoa parking garages! We have to help each other not kick out when storm is here #irma\n",
      "Shame on you Legacy place, downtown at gardens and Abacoa parking garages! We have to help each other not kick out when storm is here #irma\n",
      "😖I just wanna play BF4 &amp; EA servers are down. In Indiana getting screwed by a hurricane. 😢I know others are ACTUALLY getting worse. 🙏🏻\n",
      "😖I just wanna play BF4 &amp; EA servers are down. In Indiana getting screwed by a hurricane. 😢I know others are ACTUALLY getting worse. 🙏🏻\n",
      "😖I just wanna play BF4 &amp; EA servers are down. In Indiana getting screwed by a hurricane. 😢I know others are ACTUALLY getting worse. 🙏🏻\n",
      "Hurricane Local Statement issued for Brevard, Indian River, Lake, Martin, Okeechobee and Orange Counties in FL #flwx https://t.co/PGufOrL1bl\n",
      "Hurricane Local Statement issued for Brevard, Indian River, Lake, Martin, Okeechobee and Orange Counties in FL #flwx https://t.co/PGufOrL1bl\n",
      "Hurricane Local Statement issued for Brevard, Indian River, Lake, Martin, Okeechobee and Orange Counties in FL #flwx https://t.co/PGufOrL1bl\n",
      "Hurricane Local Statement issued for Brevard, Indian River, Lake, Martin, Okeechobee and Orange Counties in FL #flwx https://t.co/PGufOrL1bl\n"
     ]
    }
   ],
   "source": [
    "print(len(df4))\n",
    "for i in range(1,100):\n",
    "    print(df4.tweet_text[i])"
   ]
  },
  {
   "cell_type": "markdown",
   "metadata": {},
   "source": [
    "So this metric seems to give 7,000 tweets out of which a good fraction are actual location tweets. Lets try to train which of these tweets have actual location and which ones don't."
   ]
  },
  {
   "cell_type": "code",
   "execution_count": 23,
   "metadata": {},
   "outputs": [
    {
     "data": {
      "text/plain": [
       "<sqlalchemy.engine.result.ResultProxy at 0x110b86630>"
      ]
     },
     "execution_count": 23,
     "metadata": {},
     "output_type": "execute_result"
    }
   ],
   "source": [
    "# create a table to store this training data.\n",
    "connection.execute(\"\"\"\n",
    "create table tweetsTrainLocation01 (\n",
    "id serial,\n",
    "tweet_id bigint unique references tweets(tweet_id),\n",
    "isALocationTweet boolean\n",
    ");\n",
    "\"\"\")\n",
    "# table already created, running this will only give an error now."
   ]
  },
  {
   "cell_type": "code",
   "execution_count": 28,
   "metadata": {},
   "outputs": [
    {
     "data": {
      "text/plain": [
       "<sqlalchemy.engine.result.ResultProxy at 0x11359bac8>"
      ]
     },
     "execution_count": 28,
     "metadata": {},
     "output_type": "execute_result"
    }
   ],
   "source": [
    "connection.executeo(\"\"\"\n",
    "insert into tweetsTrainLocation01 (tweet_id)  (\n",
    "    select \n",
    "        tweets.tweet_id\n",
    "    from tweets \n",
    "    join osmtweetlocalization \n",
    "        on osmtweetlocalization.tweet_id = tweets.tweet_id \n",
    "    join planet_osm_nodes\n",
    "        on osmtweetlocalization.osm_id = planet_osm_nodes.id\n",
    "    join spacyentities01 \n",
    "        on spacyentities01.tweet_id = tweets.tweet_id \n",
    "    where \n",
    "        trim(entityname) not in ( \n",
    "            select trim(entityname) \n",
    "            from spacyentities01 \n",
    "            group by trim(entityname) \n",
    "            order by count(id) desc\n",
    "            limit 100\n",
    "        )\n",
    "        and tweets.tweet_id in (\n",
    "            select tweet_id \n",
    "            from osmtweetlocalization  \n",
    "            group by tweet_id \n",
    "            having count(tweet_id) <5 \n",
    "        )\n",
    ") on conflict do nothing;\n",
    "\"\"\")"
   ]
  },
  {
   "cell_type": "markdown",
   "metadata": {},
   "source": [
    "The interactive part below Will let you keep Marking tweets as containing a location and that it pertains to Hurricane Irma, and you can keep training further whenever you have time!"
   ]
  },
  {
   "cell_type": "code",
   "execution_count": 88,
   "metadata": {},
   "outputs": [
    {
     "name": "stdout",
     "output_type": "stream",
     "text": [
      "Tropic Terrace Condo Hotel Unit #5 Treasure Island, Florida\n",
      "(Photo Credits To The Owner) https://t.co/ukmM1MlC3k\n"
     ]
    }
   ],
   "source": [
    "from ipywidgets import widgets\n",
    "from IPython.display import clear_output\n",
    "\n",
    "button = widgets.Button(description=\"Yes location details.\")\n",
    "display(button)\n",
    "button2 = widgets.Button(description=\"No location details.\")\n",
    "display(button2)\n",
    "tweetid = 0\n",
    "def on_yes_button(b):\n",
    "    update_and_refresh(\"TRUE\")\n",
    "def on_no_button(b):\n",
    "    update_and_refresh(\"FALSE\")\n",
    "def update_and_refresh(flag):\n",
    "    global tweetid\n",
    "    connection.execute(\"UPDATE tweetsTrainLocation01 SET isALocationTweet=\"+flag+\" WHERE tweet_id = \"+str(tweetid))\n",
    "    getATweet()\n",
    "def getATweet():\n",
    "    tweetres = pd.read_sql_query(\"\"\"\n",
    "    select \n",
    "        tweets.tweet_text,tweets.tweet_id \n",
    "    from tweets \n",
    "    join tweetsTrainLocation01\n",
    "    on \n",
    "        tweets.tweet_id = tweetsTrainLocation01.tweet_id\n",
    "    where isALocationTweet is null order by random() limit 1;\"\"\",engine)\n",
    "    global tweetid\n",
    "    tweetid = tweetres.tweet_id[0]\n",
    "    clear_output()\n",
    "    print(tweetres.tweet_text[0])\n",
    "getATweet()\n",
    "button.on_click(on_yes_button)\n",
    "button2.on_click(on_no_button)\n"
   ]
  },
  {
   "cell_type": "code",
   "execution_count": 100,
   "metadata": {},
   "outputs": [
    {
     "data": {
      "text/html": [
       "<div>\n",
       "<style>\n",
       "    .dataframe thead tr:only-child th {\n",
       "        text-align: right;\n",
       "    }\n",
       "\n",
       "    .dataframe thead th {\n",
       "        text-align: left;\n",
       "    }\n",
       "\n",
       "    .dataframe tbody tr th {\n",
       "        vertical-align: top;\n",
       "    }\n",
       "</style>\n",
       "<table border=\"1\" class=\"dataframe\">\n",
       "  <thead>\n",
       "    <tr style=\"text-align: right;\">\n",
       "      <th></th>\n",
       "      <th>isalocationtweet</th>\n",
       "      <th>count</th>\n",
       "    </tr>\n",
       "  </thead>\n",
       "  <tbody>\n",
       "    <tr>\n",
       "      <th>0</th>\n",
       "      <td>None</td>\n",
       "      <td>6611</td>\n",
       "    </tr>\n",
       "    <tr>\n",
       "      <th>1</th>\n",
       "      <td>True</td>\n",
       "      <td>140</td>\n",
       "    </tr>\n",
       "    <tr>\n",
       "      <th>2</th>\n",
       "      <td>False</td>\n",
       "      <td>128</td>\n",
       "    </tr>\n",
       "  </tbody>\n",
       "</table>\n",
       "</div>"
      ],
      "text/plain": [
       "  isalocationtweet  count\n",
       "0             None   6611\n",
       "1             True    140\n",
       "2            False    128"
      ]
     },
     "execution_count": 100,
     "metadata": {},
     "output_type": "execute_result"
    }
   ],
   "source": [
    "pd.read_sql_query(\"select isALocationTweet,count(tweet_id) from tweetsTrainLocation01  group by isALocationTweet;\",engine)\n"
   ]
  },
  {
   "cell_type": "code",
   "execution_count": null,
   "metadata": {
    "collapsed": true
   },
   "outputs": [],
   "source": []
  }
 ],
 "metadata": {
  "kernelspec": {
   "display_name": "Python 3",
   "language": "python",
   "name": "python3"
  },
  "language_info": {
   "codemirror_mode": {
    "name": "ipython",
    "version": 3
   },
   "file_extension": ".py",
   "mimetype": "text/x-python",
   "name": "python",
   "nbconvert_exporter": "python",
   "pygments_lexer": "ipython3",
   "version": "3.6.1"
  }
 },
 "nbformat": 4,
 "nbformat_minor": 2
}
